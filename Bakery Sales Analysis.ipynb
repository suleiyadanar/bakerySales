{
 "cells": [
  {
   "cell_type": "markdown",
   "id": "217e1424-bcfb-4eea-9a36-95d351507f45",
   "metadata": {},
   "source": [
    "# BAKERY SALES ANALYSIS"
   ]
  },
  {
   "cell_type": "code",
   "execution_count": 137,
   "id": "fd3a9481-1bf1-46a5-bf2b-62cdefdd77bd",
   "metadata": {},
   "outputs": [],
   "source": [
    "#importing libraries\n",
    "import pandas as pd\n",
    "import numpy as np\n",
    "import matplotlib.pyplot as plt\n",
    "import seaborn as sns\n"
   ]
  },
  {
   "cell_type": "markdown",
   "id": "aced9fe1-afa1-4916-a969-81e03bf22a13",
   "metadata": {},
   "source": [
    "## 1. Loading and Cleaning Data"
   ]
  },
  {
   "cell_type": "code",
   "execution_count": 138,
   "id": "24b952e2-f48a-49ee-a854-51cb0cf5baa1",
   "metadata": {},
   "outputs": [
    {
     "data": {
      "text/html": [
       "<div>\n",
       "<style scoped>\n",
       "    .dataframe tbody tr th:only-of-type {\n",
       "        vertical-align: middle;\n",
       "    }\n",
       "\n",
       "    .dataframe tbody tr th {\n",
       "        vertical-align: top;\n",
       "    }\n",
       "\n",
       "    .dataframe thead th {\n",
       "        text-align: right;\n",
       "    }\n",
       "</style>\n",
       "<table border=\"1\" class=\"dataframe\">\n",
       "  <thead>\n",
       "    <tr style=\"text-align: right;\">\n",
       "      <th></th>\n",
       "      <th>TransactionNo</th>\n",
       "      <th>Items</th>\n",
       "      <th>DateTime</th>\n",
       "      <th>Daypart</th>\n",
       "      <th>DayType</th>\n",
       "    </tr>\n",
       "  </thead>\n",
       "  <tbody>\n",
       "    <tr>\n",
       "      <th>0</th>\n",
       "      <td>1</td>\n",
       "      <td>Bread</td>\n",
       "      <td>2016-10-30 09:58:11</td>\n",
       "      <td>Morning</td>\n",
       "      <td>Weekend</td>\n",
       "    </tr>\n",
       "    <tr>\n",
       "      <th>1</th>\n",
       "      <td>2</td>\n",
       "      <td>Scandinavian</td>\n",
       "      <td>2016-10-30 10:05:34</td>\n",
       "      <td>Morning</td>\n",
       "      <td>Weekend</td>\n",
       "    </tr>\n",
       "    <tr>\n",
       "      <th>2</th>\n",
       "      <td>2</td>\n",
       "      <td>Scandinavian</td>\n",
       "      <td>2016-10-30 10:05:34</td>\n",
       "      <td>Morning</td>\n",
       "      <td>Weekend</td>\n",
       "    </tr>\n",
       "    <tr>\n",
       "      <th>3</th>\n",
       "      <td>3</td>\n",
       "      <td>Hot chocolate</td>\n",
       "      <td>2016-10-30 10:07:57</td>\n",
       "      <td>Morning</td>\n",
       "      <td>Weekend</td>\n",
       "    </tr>\n",
       "    <tr>\n",
       "      <th>4</th>\n",
       "      <td>3</td>\n",
       "      <td>Jam</td>\n",
       "      <td>2016-10-30 10:07:57</td>\n",
       "      <td>Morning</td>\n",
       "      <td>Weekend</td>\n",
       "    </tr>\n",
       "  </tbody>\n",
       "</table>\n",
       "</div>"
      ],
      "text/plain": [
       "   TransactionNo          Items             DateTime  Daypart  DayType\n",
       "0              1          Bread  2016-10-30 09:58:11  Morning  Weekend\n",
       "1              2   Scandinavian  2016-10-30 10:05:34  Morning  Weekend\n",
       "2              2   Scandinavian  2016-10-30 10:05:34  Morning  Weekend\n",
       "3              3  Hot chocolate  2016-10-30 10:07:57  Morning  Weekend\n",
       "4              3            Jam  2016-10-30 10:07:57  Morning  Weekend"
      ]
     },
     "execution_count": 138,
     "metadata": {},
     "output_type": "execute_result"
    }
   ],
   "source": [
    "#reading data from csv file\n",
    "data = pd.read_csv('Bakery.csv')\n",
    "data.head()"
   ]
  },
  {
   "cell_type": "markdown",
   "id": "04701fd7-d471-49af-9ca8-70d093d05bd8",
   "metadata": {},
   "source": [
    "check if there are null values"
   ]
  },
  {
   "cell_type": "code",
   "execution_count": 139,
   "id": "e3560974-6a6f-4683-9f42-dcca10f47a73",
   "metadata": {},
   "outputs": [
    {
     "data": {
      "text/plain": [
       "TransactionNo    0\n",
       "Items            0\n",
       "DateTime         0\n",
       "Daypart          0\n",
       "DayType          0\n",
       "dtype: int64"
      ]
     },
     "execution_count": 139,
     "metadata": {},
     "output_type": "execute_result"
    }
   ],
   "source": [
    "data.isnull().sum()"
   ]
  },
  {
   "cell_type": "markdown",
   "id": "980ff13d-b491-4407-8ee7-2f4e39dc161e",
   "metadata": {},
   "source": [
    "break down the date time into years, months, weekday and hours"
   ]
  },
  {
   "cell_type": "code",
   "execution_count": 140,
   "id": "9aacd6ea-3118-4887-8225-3cfe04702198",
   "metadata": {},
   "outputs": [],
   "source": [
    "data[\"Year\"]=pd.to_datetime(data[\"DateTime\"]).dt.year\n",
    "data[\"Month\"]=pd.to_datetime(data[\"DateTime\"]).dt.month\n",
    "data[\"Week_Day\"]=pd.to_datetime(data[\"DateTime\"]).dt.weekday\n",
    "data[\"Hour\"]=pd.to_datetime(data[\"DateTime\"]).dt.hour\n",
    "\n",
    "\n",
    "#label days of the week\n",
    "data[\"Week_Day\"]=data[\"Week_Day\"].replace((0,1,2,3,4,5,6),('Monday','Tuesday' ,'Wednesday' ,'Thursday','Friday' ,'Saturday' ,'Sunday'))"
   ]
  },
  {
   "cell_type": "markdown",
   "id": "001e91ac-7d7e-4b17-a88b-09d1703bf7de",
   "metadata": {},
   "source": [
    "## 2. EDA"
   ]
  },
  {
   "cell_type": "markdown",
   "id": "9129c967-f483-414b-b25a-ff63ed23d8a6",
   "metadata": {},
   "source": [
    "### Monthly Sales"
   ]
  },
  {
   "cell_type": "code",
   "execution_count": 148,
   "id": "537854cf-0be8-46f4-b46b-2afb27145cf7",
   "metadata": {},
   "outputs": [
    {
     "data": {
      "image/png": "[encoded data removed]",
      "text/plain": [
       "<Figure size 720x288 with 1 Axes>"
      ]
     },
     "metadata": {},
     "output_type": "display_data"
    }
   ],
   "source": [
    "monthly_sales = data.groupby(data['Month'],as_index=False)['Items'].count()\n",
    "\n",
    "sns.set(style='darkgrid')\n",
    "plt.figure(figsize=(10,4))\n",
    "sns.lineplot(data= monthly_sales, x='Month', y='Items',color='skyblue', linewidth=3)\n",
    "plt.axvline(x = 3, color = 'r', linestyle = '--', label = 'Month of Highest Sales')\n",
    "\n",
    "plt.legend()\n",
    "plt.title('Monthly Sales', size = 16)\n",
    "plt.xlabel('Month')\n",
    "plt.ylabel('# of Items sold')\n",
    "plt.show()"
   ]
  },
  {
   "cell_type": "markdown",
   "id": "d5b49606-fba0-44f6-b0ca-34e48b5d3cb2",
   "metadata": {},
   "source": [
    "Top 5 Items in March"
   ]
  },
  {
   "cell_type": "code",
   "execution_count": 142,
   "id": "5bc58992-707b-4e87-b61c-b7a7913ed787",
   "metadata": {},
   "outputs": [
    {
     "data": {
      "text/plain": [
       "Coffee      873\n",
       "Bread       481\n",
       "Tea         197\n",
       "Cake        182\n",
       "Sandwich    155\n",
       "Name: Items, dtype: int64"
      ]
     },
     "execution_count": 142,
     "metadata": {},
     "output_type": "execute_result"
    }
   ],
   "source": [
    "# march_sales=data.pivot_table(index='Month', columns='Items',aggfunc ='sum')\n",
    "march_sales=data.loc[data['Month'].isin([3])]\n",
    "march_sales['Items'].value_counts()[:5]"
   ]
  },
  {
   "cell_type": "markdown",
   "id": "525baad9-5e2e-4bb7-a01f-022c77479d59",
   "metadata": {},
   "source": [
    "### Analysis\n",
    "\n",
    "- March has the most sales and generally more sales in the winter months\n",
    "- Coffee is the most sold item in March\n"
   ]
  },
  {
   "cell_type": "markdown",
   "id": "76f8322a-b5a9-425d-b134-ce3807e75098",
   "metadata": {},
   "source": [
    "### Sales by Time of the Day"
   ]
  },
  {
   "cell_type": "code",
   "execution_count": 144,
   "id": "8c5020ac-d835-4e8e-85ea-480b76e697ae",
   "metadata": {},
   "outputs": [
    {
     "data": {
      "text/plain": [
       "Week_Day\n",
       "Saturday     3554\n",
       "Friday       3266\n",
       "Sunday       3118\n",
       "Monday       3035\n",
       "Tuesday      2645\n",
       "Thursday     2601\n",
       "Wednesday    2288\n",
       "Name: Items, dtype: int64"
      ]
     },
     "execution_count": 144,
     "metadata": {},
     "output_type": "execute_result"
    }
   ],
   "source": [
    "tod = data.groupby('Week_Day')['Items'].count().sort_values(ascending=False)\n",
    "tod"
   ]
  },
  {
   "cell_type": "code",
   "execution_count": 145,
   "id": "2e0a6fd8-7162-4743-a9e1-ff5048630e35",
   "metadata": {},
   "outputs": [
    {
     "data": {
      "text/html": [
       "<div>\n",
       "<style scoped>\n",
       "    .dataframe tbody tr th:only-of-type {\n",
       "        vertical-align: middle;\n",
       "    }\n",
       "\n",
       "    .dataframe tbody tr th {\n",
       "        vertical-align: top;\n",
       "    }\n",
       "\n",
       "    .dataframe thead th {\n",
       "        text-align: right;\n",
       "    }\n",
       "</style>\n",
       "<table border=\"1\" class=\"dataframe\">\n",
       "  <thead>\n",
       "    <tr style=\"text-align: right;\">\n",
       "      <th>Week_Day</th>\n",
       "      <th>Friday</th>\n",
       "      <th>Monday</th>\n",
       "      <th>Saturday</th>\n",
       "      <th>Sunday</th>\n",
       "      <th>Thursday</th>\n",
       "      <th>Tuesday</th>\n",
       "      <th>Wednesday</th>\n",
       "    </tr>\n",
       "    <tr>\n",
       "      <th>Daypart</th>\n",
       "      <th></th>\n",
       "      <th></th>\n",
       "      <th></th>\n",
       "      <th></th>\n",
       "      <th></th>\n",
       "      <th></th>\n",
       "      <th></th>\n",
       "    </tr>\n",
       "  </thead>\n",
       "  <tbody>\n",
       "    <tr>\n",
       "      <th>Afternoon</th>\n",
       "      <td>1745.0</td>\n",
       "      <td>1787.0</td>\n",
       "      <td>1931.0</td>\n",
       "      <td>1824.0</td>\n",
       "      <td>1447.0</td>\n",
       "      <td>1557.0</td>\n",
       "      <td>1278.0</td>\n",
       "    </tr>\n",
       "    <tr>\n",
       "      <th>Evening</th>\n",
       "      <td>91.0</td>\n",
       "      <td>50.0</td>\n",
       "      <td>50.0</td>\n",
       "      <td>106.0</td>\n",
       "      <td>101.0</td>\n",
       "      <td>73.0</td>\n",
       "      <td>49.0</td>\n",
       "    </tr>\n",
       "    <tr>\n",
       "      <th>Morning</th>\n",
       "      <td>1422.0</td>\n",
       "      <td>1198.0</td>\n",
       "      <td>1571.0</td>\n",
       "      <td>1188.0</td>\n",
       "      <td>1051.0</td>\n",
       "      <td>1013.0</td>\n",
       "      <td>961.0</td>\n",
       "    </tr>\n",
       "    <tr>\n",
       "      <th>Night</th>\n",
       "      <td>8.0</td>\n",
       "      <td>0.0</td>\n",
       "      <td>2.0</td>\n",
       "      <td>0.0</td>\n",
       "      <td>2.0</td>\n",
       "      <td>2.0</td>\n",
       "      <td>0.0</td>\n",
       "    </tr>\n",
       "  </tbody>\n",
       "</table>\n",
       "</div>"
      ],
      "text/plain": [
       "Week_Day   Friday  Monday  Saturday  Sunday  Thursday  Tuesday  Wednesday\n",
       "Daypart                                                                  \n",
       "Afternoon  1745.0  1787.0    1931.0  1824.0    1447.0   1557.0     1278.0\n",
       "Evening      91.0    50.0      50.0   106.0     101.0     73.0       49.0\n",
       "Morning    1422.0  1198.0    1571.0  1188.0    1051.0   1013.0      961.0\n",
       "Night         8.0     0.0       2.0     0.0       2.0      2.0        0.0"
      ]
     },
     "execution_count": 145,
     "metadata": {},
     "output_type": "execute_result"
    }
   ],
   "source": [
    "sales=data.pivot_table(index='Daypart', columns='Week_Day', values='Items', aggfunc ='count')\n",
    "sales=sales.fillna(0)\n",
    "sales"
   ]
  },
  {
   "cell_type": "code",
   "execution_count": null,
   "id": "28f91d34-cf77-4e9a-886e-5fb19f342aea",
   "metadata": {},
   "outputs": [
    {
     "data": {
      "image/png": "[encoded data removed]",
      "text/plain": [
       "<Figure size 432x288 with 2 Axes>"
      ]
     },
     "metadata": {},
     "output_type": "display_data"
    }
   ],
   "source": [
    "sales_heatmap = sns.heatmap(sales, annot = True, cmap = 'Blues', fmt=\".0f\")"
   ]
  },
  {
   "cell_type": "markdown",
   "id": "92c89f55-7ec5-4365-a7c0-5122d85b2ec1",
   "metadata": {},
   "source": [
    "### Analysis\n",
    "\n",
    "- Weekends are the busiest \n",
    "- Saturday Afternoons is the peak hour of the week\n",
    "- Most sales in the Mornings and Afternoons"
   ]
  },
  {
   "cell_type": "markdown",
   "id": "cf668f8b-a47b-409e-878c-318f57caba18",
   "metadata": {},
   "source": [
    "## 3. Train Data Model"
   ]
  },
  {
   "cell_type": "markdown",
   "id": "cf3025dd-75d2-4ca4-a6c4-f6c28415ad9a",
   "metadata": {},
   "source": [
    "## Preprocessing"
   ]
  },
  {
   "cell_type": "code",
   "execution_count": 134,
   "id": "66d75d2f-cdde-4261-9d51-40e89c8dbd25",
   "metadata": {},
   "outputs": [],
   "source": [
    "def preprocess_inputs(data):\n",
    "    data = data.copy()\n",
    "    \n",
    "    #Drop Year, Month, Hour\n",
    "    data = data.drop(['Year','Month','Hour', 'Daypart', 'DayType'], axis=1)\n",
    "    return data\n",
    "# data2=data.groupby(data['DateTime'],as_index=False).pivot\n",
    "# data2=data2.fillna(0)\n",
    "# data2"
   ]
  },
  {
   "cell_type": "code",
   "execution_count": 135,
   "id": "bd8c4d32-c37a-4aa0-b4b4-82c6b2465800",
   "metadata": {},
   "outputs": [
    {
     "data": {
      "text/html": [
       "<div>\n",
       "<style scoped>\n",
       "    .dataframe tbody tr th:only-of-type {\n",
       "        vertical-align: middle;\n",
       "    }\n",
       "\n",
       "    .dataframe tbody tr th {\n",
       "        vertical-align: top;\n",
       "    }\n",
       "\n",
       "    .dataframe thead th {\n",
       "        text-align: right;\n",
       "    }\n",
       "</style>\n",
       "<table border=\"1\" class=\"dataframe\">\n",
       "  <thead>\n",
       "    <tr style=\"text-align: right;\">\n",
       "      <th></th>\n",
       "      <th>TransactionNo</th>\n",
       "      <th>Items</th>\n",
       "      <th>DateTime</th>\n",
       "      <th>Week_Day</th>\n",
       "    </tr>\n",
       "  </thead>\n",
       "  <tbody>\n",
       "    <tr>\n",
       "      <th>0</th>\n",
       "      <td>1</td>\n",
       "      <td>Bread</td>\n",
       "      <td>2016-10-30 09:58:11</td>\n",
       "      <td>Sunday</td>\n",
       "    </tr>\n",
       "    <tr>\n",
       "      <th>1</th>\n",
       "      <td>2</td>\n",
       "      <td>Scandinavian</td>\n",
       "      <td>2016-10-30 10:05:34</td>\n",
       "      <td>Sunday</td>\n",
       "    </tr>\n",
       "    <tr>\n",
       "      <th>2</th>\n",
       "      <td>2</td>\n",
       "      <td>Scandinavian</td>\n",
       "      <td>2016-10-30 10:05:34</td>\n",
       "      <td>Sunday</td>\n",
       "    </tr>\n",
       "    <tr>\n",
       "      <th>3</th>\n",
       "      <td>3</td>\n",
       "      <td>Hot chocolate</td>\n",
       "      <td>2016-10-30 10:07:57</td>\n",
       "      <td>Sunday</td>\n",
       "    </tr>\n",
       "    <tr>\n",
       "      <th>4</th>\n",
       "      <td>3</td>\n",
       "      <td>Jam</td>\n",
       "      <td>2016-10-30 10:07:57</td>\n",
       "      <td>Sunday</td>\n",
       "    </tr>\n",
       "    <tr>\n",
       "      <th>...</th>\n",
       "      <td>...</td>\n",
       "      <td>...</td>\n",
       "      <td>...</td>\n",
       "      <td>...</td>\n",
       "    </tr>\n",
       "    <tr>\n",
       "      <th>20502</th>\n",
       "      <td>9682</td>\n",
       "      <td>Coffee</td>\n",
       "      <td>2017-09-04 14:32:58</td>\n",
       "      <td>Monday</td>\n",
       "    </tr>\n",
       "    <tr>\n",
       "      <th>20503</th>\n",
       "      <td>9682</td>\n",
       "      <td>Tea</td>\n",
       "      <td>2017-09-04 14:32:58</td>\n",
       "      <td>Monday</td>\n",
       "    </tr>\n",
       "    <tr>\n",
       "      <th>20504</th>\n",
       "      <td>9683</td>\n",
       "      <td>Coffee</td>\n",
       "      <td>2017-09-04 14:57:06</td>\n",
       "      <td>Monday</td>\n",
       "    </tr>\n",
       "    <tr>\n",
       "      <th>20505</th>\n",
       "      <td>9683</td>\n",
       "      <td>Pastry</td>\n",
       "      <td>2017-09-04 14:57:06</td>\n",
       "      <td>Monday</td>\n",
       "    </tr>\n",
       "    <tr>\n",
       "      <th>20506</th>\n",
       "      <td>9684</td>\n",
       "      <td>Smoothies</td>\n",
       "      <td>2017-09-04 15:04:24</td>\n",
       "      <td>Monday</td>\n",
       "    </tr>\n",
       "  </tbody>\n",
       "</table>\n",
       "<p>20507 rows × 4 columns</p>\n",
       "</div>"
      ],
      "text/plain": [
       "       TransactionNo          Items             DateTime Week_Day\n",
       "0                  1          Bread  2016-10-30 09:58:11   Sunday\n",
       "1                  2   Scandinavian  2016-10-30 10:05:34   Sunday\n",
       "2                  2   Scandinavian  2016-10-30 10:05:34   Sunday\n",
       "3                  3  Hot chocolate  2016-10-30 10:07:57   Sunday\n",
       "4                  3            Jam  2016-10-30 10:07:57   Sunday\n",
       "...              ...            ...                  ...      ...\n",
       "20502           9682         Coffee  2017-09-04 14:32:58   Monday\n",
       "20503           9682            Tea  2017-09-04 14:32:58   Monday\n",
       "20504           9683         Coffee  2017-09-04 14:57:06   Monday\n",
       "20505           9683         Pastry  2017-09-04 14:57:06   Monday\n",
       "20506           9684      Smoothies  2017-09-04 15:04:24   Monday\n",
       "\n",
       "[20507 rows x 4 columns]"
      ]
     },
     "execution_count": 135,
     "metadata": {},
     "output_type": "execute_result"
    }
   ],
   "source": [
    "preprocess_inputs(data)"
   ]
  },
  {
   "cell_type": "code",
   "execution_count": null,
   "id": "db110639-e08f-4854-a689-d9567b8de107",
   "metadata": {},
   "outputs": [],
   "source": [
    "Ongoing"
   ]
  }
 ],
 "metadata": {
  "kernelspec": {
   "display_name": "Python 3 (ipykernel)",
   "language": "python",
   "name": "python3"
  },
  "language_info": {
   "codemirror_mode": {
    "name": "ipython",
    "version": 3
   },
   "file_extension": ".py",
   "mimetype": "text/x-python",
   "name": "python",
   "nbconvert_exporter": "python",
   "pygments_lexer": "ipython3",
   "version": "3.9.7"
  }
 },
 "nbformat": 4,
 "nbformat_minor": 5
}
